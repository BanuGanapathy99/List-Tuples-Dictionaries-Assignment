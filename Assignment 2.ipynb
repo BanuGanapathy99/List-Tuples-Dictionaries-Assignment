{
 "cells": [
  {
   "cell_type": "markdown",
   "id": "5f8fe993",
   "metadata": {},
   "source": [
    "## `Write a Python program to get a list, sorted in increasing order by the last element in each tuple from a given list of non-empty tuples`\n"
   ]
  },
  {
   "cell_type": "code",
   "execution_count": 3,
   "id": "2d3640e8",
   "metadata": {},
   "outputs": [
    {
     "name": "stdout",
     "output_type": "stream",
     "text": [
      "enter no of rows : 5\n",
      "5 8\n",
      "3 4\n",
      "6 2\n",
      "9 6\n",
      "1 1\n",
      "[(1, 1), (6, 2), (3, 4), (9, 6), (5, 8)]\n"
     ]
    }
   ],
   "source": [
    "\n",
    "tup = list(tuple(map(int,input().split())) \n",
    "for r in range(int(input('enter no of rows : ')))) \n",
    "def last(n): return n[-1]\n",
    "\n",
    "def sort_list_last(tuples):\n",
    "  return sorted(tuples, key=last)\n",
    "\n",
    "print(sort_list_last(tup))"
   ]
  },
  {
   "cell_type": "markdown",
   "id": "7a11c5de",
   "metadata": {},
   "source": [
    "## `Write a Python program to print a dictionary whose keys should be the alphabet from a-z and the value should be corresponding ASCII values`"
   ]
  },
  {
   "cell_type": "code",
   "execution_count": 9,
   "id": "51980c15",
   "metadata": {},
   "outputs": [
    {
     "name": "stdout",
     "output_type": "stream",
     "text": [
      "{'a': 97, 'b': 98, 'c': 99, 'd': 100, 'e': 101, 'f': 102, 'g': 103, 'h': 104, 'i': 105, 'j': 106, 'k': 107, 'l': 108, 'm': 109, 'n': 110, 'o': 111, 'p': 112, 'q': 113, 'r': 114, 's': 115, 't': 116, 'u': 117, 'v': 118, 'w': 119, 'x': 120, 'y': 121}\n"
     ]
    }
   ],
   "source": [
    "dc = {}\n",
    "for i in range(ord('a'), ord('z')):\n",
    "    dc[chr(i)] = i\n",
    "print(dc)"
   ]
  },
  {
   "cell_type": "code",
   "execution_count": null,
   "id": "7adee5a0",
   "metadata": {},
   "outputs": [],
   "source": []
  }
 ],
 "metadata": {
  "kernelspec": {
   "display_name": "Python 3 (ipykernel)",
   "language": "python",
   "name": "python3"
  },
  "language_info": {
   "codemirror_mode": {
    "name": "ipython",
    "version": 3
   },
   "file_extension": ".py",
   "mimetype": "text/x-python",
   "name": "python",
   "nbconvert_exporter": "python",
   "pygments_lexer": "ipython3",
   "version": "3.10.0"
  }
 },
 "nbformat": 4,
 "nbformat_minor": 5
}
